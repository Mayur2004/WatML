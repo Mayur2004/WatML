{
  "nbformat": 4,
  "nbformat_minor": 0,
  "metadata": {
    "colab": {
      "provenance": []
    },
    "kernelspec": {
      "name": "python3",
      "display_name": "Python 3"
    },
    "language_info": {
      "name": "python"
    }
  },
  "cells": [
    {
      "cell_type": "markdown",
      "source": [
        "# My Jupyter Notebook on IBM Watson Studio"
      ],
      "metadata": {
        "id": "W38egz4ujU7E"
      }
    },
    {
      "cell_type": "code",
      "execution_count": null,
      "metadata": {
        "id": "-c2rQFkcjQOv"
      },
      "outputs": [],
      "source": [
        "My Jupyter Notebook on IBM Watson Studio"
      ]
    },
    {
      "cell_type": "markdown",
      "source": [
        "**Mayur** **Dwarkanath** **Gujar**\n",
        "\n",
        "Analyst\n"
      ],
      "metadata": {
        "id": "3AkOO1i7jXg4"
      }
    },
    {
      "cell_type": "markdown",
      "source": [
        "I am interested in data science because I want to enhance my skills and ability so that in future I will be able to start new startup using AI and machine learning for better efficiency "
      ],
      "metadata": {
        "id": "WLyDchDSj1_k"
      }
    },
    {
      "cell_type": "markdown",
      "source": [
        "### Recusive function( Factorial of any number)"
      ],
      "metadata": {
        "id": "Ve9ndX4Nkj1u"
      }
    },
    {
      "cell_type": "code",
      "source": [
        "def fact(x):\n",
        "  if x == 1:\n",
        "    return 1\n",
        "  else:\n",
        "    return(x*fact(x-1))\n",
        "\n",
        "fact(10)"
      ],
      "metadata": {
        "colab": {
          "base_uri": "https://localhost:8080/"
        },
        "id": "RL1dV8IwkbAV",
        "outputId": "28242e57-306f-4284-d5e7-0a303c9e25ae"
      },
      "execution_count": 4,
      "outputs": [
        {
          "output_type": "execute_result",
          "data": {
            "text/plain": [
              "3628800"
            ]
          },
          "metadata": {},
          "execution_count": 4
        }
      ]
    },
    {
      "cell_type": "code",
      "source": [
        "fact(4)"
      ],
      "metadata": {
        "colab": {
          "base_uri": "https://localhost:8080/"
        },
        "id": "8gWPclkOlhzI",
        "outputId": "16b63aa5-1dfb-454f-db5d-3d9a4202ae7f"
      },
      "execution_count": 2,
      "outputs": [
        {
          "output_type": "execute_result",
          "data": {
            "text/plain": [
              "24"
            ]
          },
          "metadata": {},
          "execution_count": 2
        }
      ]
    },
    {
      "cell_type": "code",
      "source": [],
      "metadata": {
        "id": "zGHV7zvGlmfX"
      },
      "execution_count": null,
      "outputs": []
    }
  ]
}